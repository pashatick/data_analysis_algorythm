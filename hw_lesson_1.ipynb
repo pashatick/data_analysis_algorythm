{
 "cells": [
  {
   "cell_type": "code",
   "execution_count": 1,
   "metadata": {},
   "outputs": [],
   "source": [
    "import numpy as np\n",
    "\n"
   ]
  },
  {
   "cell_type": "code",
   "execution_count": 2,
   "metadata": {},
   "outputs": [],
   "source": [
    "X = np.array([[1, 1, 1, 1, 1, 1, 1, 1, 1, 1],\n",
    "              [1, 1, 2, 1, 3, 0, 5, 10, 1, 2]])\n",
    "y = [45, 55, 50, 59, 65, 35, 75, 80, 50, 60]"
   ]
  },
  {
   "cell_type": "code",
   "execution_count": 9,
   "metadata": {},
   "outputs": [
    {
     "ename": "NameError",
     "evalue": "name 'ii' is not defined",
     "output_type": "error",
     "traceback": [
      "\u001b[1;31m---------------------------------------------------------------------------\u001b[0m",
      "\u001b[1;31mNameError\u001b[0m                                 Traceback (most recent call last)",
      "\u001b[1;32m<ipython-input-9-d2e5ed5181b1>\u001b[0m in \u001b[0;36m<module>\u001b[1;34m\u001b[0m\n\u001b[0;32m      3\u001b[0m \u001b[0mW\u001b[0m \u001b[1;33m=\u001b[0m \u001b[0mnp\u001b[0m\u001b[1;33m.\u001b[0m\u001b[0marray\u001b[0m\u001b[1;33m(\u001b[0m\u001b[1;33m[\u001b[0m\u001b[1;36m1\u001b[0m\u001b[1;33m,\u001b[0m \u001b[1;36m0.5\u001b[0m\u001b[1;33m]\u001b[0m\u001b[1;33m)\u001b[0m\u001b[1;33m\u001b[0m\u001b[1;33m\u001b[0m\u001b[0m\n\u001b[0;32m      4\u001b[0m \u001b[0mW\u001b[0m\u001b[1;33m,\u001b[0m \u001b[0malpha\u001b[0m\u001b[1;33m\u001b[0m\u001b[1;33m\u001b[0m\u001b[0m\n\u001b[1;32m----> 5\u001b[1;33m \u001b[0mW\u001b[0m\u001b[1;33m[\u001b[0m\u001b[0mii\u001b[0m\u001b[1;33m]\u001b[0m\u001b[1;33m\u001b[0m\u001b[1;33m\u001b[0m\u001b[0m\n\u001b[0m",
      "\u001b[1;31mNameError\u001b[0m: name 'ii' is not defined"
     ]
    }
   ],
   "source": [
    "n = X.shape[1]\n",
    "alpha = 1e-3\n",
    "W = np.array([1, 0.5])\n",
    "W, alpha"
   ]
  },
  {
   "cell_type": "code",
   "execution_count": 4,
   "metadata": {},
   "outputs": [],
   "source": [
    "def calc_mse(y, y_pred):\n",
    "  err = np.mean((y - y_pred)**2)\n",
    "  return err"
   ]
  },
  {
   "cell_type": "code",
   "execution_count": 11,
   "metadata": {},
   "outputs": [
    {
     "name": "stdout",
     "output_type": "stream",
     "text": [
      "0 [47.2321355   3.91071564] 45.93750000002918\n",
      "1000 [47.23214026  3.91071477] 45.93750000000364\n",
      "2000 [47.23214194  3.91071446] 45.937500000000455\n",
      "3000 [47.23214253  3.91071435] 45.93750000000005\n",
      "4000 [47.23214274  3.91071431] 45.9375\n",
      "5000 [47.23214282  3.91071429] 45.93750000000001\n",
      "6000 [47.23214284  3.91071429] 45.93750000000001\n",
      "7000 [47.23214285  3.91071429] 45.93749999999999\n",
      "8000 [47.23214286  3.91071429] 45.937499999999986\n",
      "9000 [47.23214286  3.91071429] 45.937500000000014\n",
      "10000 [47.23214286  3.91071429] 45.937500000000014\n",
      "11000 [47.23214286  3.91071429] 45.93750000000001\n",
      "12000 [47.23214286  3.91071429] 45.937500000000014\n",
      "13000 [47.23214286  3.91071429] 45.9375\n",
      "14000 [47.23214286  3.91071429] 45.937499999999986\n"
     ]
    }
   ],
   "source": [
    "for i in range(15000):\n",
    "  y_pred = np.dot(W, X)\n",
    "  err = calc_mse(y, y_pred)\n",
    "  for ii in range(W.shape[0]):\n",
    "    W[ii] -= alpha * (1/n * 2 * np.sum(X[ii] * (y_pred - y)))\n",
    "  if i % 1000 == 0:\n",
    "    print(i, W, err)"
   ]
  },
  {
   "cell_type": "code",
   "execution_count": 8,
   "metadata": {},
   "outputs": [
    {
     "name": "stdout",
     "output_type": "stream",
     "text": [
      "0 [47.23214076  3.91071467] 45.93750000000236\n",
      "1000 [47.23214212  3.91071442] 45.9375000000003\n",
      "2000 [47.2321426   3.91071433] 45.93750000000003\n",
      "3000 [47.23214276  3.9107143 ] 45.93750000000002\n",
      "4000 [47.23214282  3.91071429] 45.93749999999999\n",
      "5000 [47.23214285  3.91071429] 45.9375\n",
      "6000 [47.23214285  3.91071429] 45.937499999999986\n",
      "7000 [47.23214286  3.91071429] 45.93750000000001\n",
      "8000 [47.23214286  3.91071429] 45.937499999999986\n",
      "9000 [47.23214286  3.91071429] 45.9375\n",
      "10000 [47.23214286  3.91071429] 45.937500000000014\n",
      "11000 [47.23214286  3.91071429] 45.937499999999986\n",
      "12000 [47.23214286  3.91071429] 45.937499999999986\n",
      "13000 [47.23214286  3.91071429] 45.93749999999998\n",
      "14000 [47.23214286  3.91071429] 45.93749999999998\n"
     ]
    }
   ],
   "source": [
    "for i in range(15000):\n",
    "  y_pred = np.dot(W, X)\n",
    "  err = calc_mse(y, y_pred)\n",
    "  '''for ii in range(W.shape[0]):\n",
    "    W[ii] -= alpha * (1/n * 2 * np.sum(X[ii] * (y_pred - y)))'''\n",
    "#так как явно не указываем индексы для \"W\", указываем суммирование по строкам\n",
    "  W -= (alpha * (1/n * 2 * np.sum(X * (y_pred - y), axis=1)))\n",
    "  if i % 1000 == 0:\n",
    "    print(i, W, err)"
   ]
  },
  {
   "cell_type": "code",
   "execution_count": null,
   "metadata": {},
   "outputs": [],
   "source": []
  },
  {
   "cell_type": "code",
   "execution_count": null,
   "metadata": {},
   "outputs": [],
   "source": []
  }
 ],
 "metadata": {
  "kernelspec": {
   "display_name": "Python 3",
   "language": "python",
   "name": "python3"
  },
  "language_info": {
   "codemirror_mode": {
    "name": "ipython",
    "version": 3
   },
   "file_extension": ".py",
   "mimetype": "text/x-python",
   "name": "python",
   "nbconvert_exporter": "python",
   "pygments_lexer": "ipython3",
   "version": "3.7.4"
  }
 },
 "nbformat": 4,
 "nbformat_minor": 2
}
